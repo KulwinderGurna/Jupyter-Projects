{
 "cells": [
  {
   "cell_type": "code",
   "execution_count": null,
   "id": "c01e9ef4",
   "metadata": {},
   "outputs": [
    {
     "ename": "NameError",
     "evalue": "name 'pd' is not defined",
     "output_type": "error",
     "traceback": [
      "\u001b[1;31m---------------------------------------------------------------------------\u001b[0m",
      "\u001b[1;31mNameError\u001b[0m                                 Traceback (most recent call last)",
      "Cell \u001b[1;32mIn[7], line 12\u001b[0m\n\u001b[0;32m      5\u001b[0m \u001b[38;5;66;03m#create a new dataframe from a python dictionary\u001b[39;00m\n\u001b[0;32m      6\u001b[0m data \u001b[38;5;241m=\u001b[39m {\n\u001b[0;32m      7\u001b[0m     \u001b[38;5;124m'\u001b[39m\u001b[38;5;124mName\u001b[39m\u001b[38;5;124m'\u001b[39m : [\u001b[38;5;124m'\u001b[39m\u001b[38;5;124mJohn\u001b[39m\u001b[38;5;124m'\u001b[39m, \u001b[38;5;124m'\u001b[39m\u001b[38;5;124mJane\u001b[39m\u001b[38;5;124m'\u001b[39m, \u001b[38;5;124m'\u001b[39m\u001b[38;5;124mMichael\u001b[39m\u001b[38;5;124m'\u001b[39m,\u001b[38;5;124m'\u001b[39m\u001b[38;5;124mEmily\u001b[39m\u001b[38;5;124m'\u001b[39m, \u001b[38;5;124m'\u001b[39m\u001b[38;5;124mDavid\u001b[39m\u001b[38;5;124m'\u001b[39m],\n\u001b[0;32m      8\u001b[0m     \u001b[38;5;124m'\u001b[39m\u001b[38;5;124mMath\u001b[39m\u001b[38;5;124m'\u001b[39m: [\u001b[38;5;241m85\u001b[39m, \u001b[38;5;241m92\u001b[39m, \u001b[38;5;241m78\u001b[39m, np\u001b[38;5;241m.\u001b[39mnan, \u001b[38;5;241m88\u001b[39m], \u001b[38;5;66;03m#notice that Emily's Math score is null\u001b[39;00m\n\u001b[0;32m      9\u001b[0m     \u001b[38;5;124m'\u001b[39m\u001b[38;5;124mScience\u001b[39m\u001b[38;5;124m'\u001b[39m : [\u001b[38;5;241m78\u001b[39m, \u001b[38;5;241m45\u001b[39m, \u001b[38;5;241m85\u001b[39m, \u001b[38;5;241m91\u001b[39m, \u001b[38;5;241m82\u001b[39m] \u001b[38;5;66;03m#there is a failing score in the science column\u001b[39;00m\n\u001b[0;32m     10\u001b[0m \n\u001b[0;32m     11\u001b[0m }\n\u001b[1;32m---> 12\u001b[0m df \u001b[38;5;241m=\u001b[39m pd\u001b[38;5;241m.\u001b[39mDataFrame(data);\n\u001b[0;32m     13\u001b[0m df\n",
      "\u001b[1;31mNameError\u001b[0m: name 'pd' is not defined"
     ]
    }
   ],
   "source": [
    "import pandas as pd\n",
    "import numpy as np\n",
    "import matplotlib.pyplot as plt\n",
    "\n",
    "#create a new dataframe from a python dictionary\n",
    "data = {\n",
    "    'Name' : ['John', 'Jane', 'Michael','Emily', 'David'],\n",
    "    'Math': [85, 92, 78, np.nan, 88], #notice that Emily's Math score is null\n",
    "    'Science' : [78, 45, 85, 91, 82] #there is a failing score in the science column\n",
    "\n",
    "}\n",
    "\n",
    "df = pd.DataFrame(data);\n",
    "df\n"
   ]
  }
 ],
 "metadata": {
  "kernelspec": {
   "display_name": "base",
   "language": "python",
   "name": "python3"
  },
  "language_info": {
   "codemirror_mode": {
    "name": "ipython",
    "version": 3
   },
   "file_extension": ".py",
   "mimetype": "text/x-python",
   "name": "python",
   "nbconvert_exporter": "python",
   "pygments_lexer": "ipython3",
   "version": "3.12.7"
  }
 },
 "nbformat": 4,
 "nbformat_minor": 5
}
